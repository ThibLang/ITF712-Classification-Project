{
 "cells": [
  {
   "cell_type": "code",
   "execution_count": 1,
   "id": "5594c48c",
   "metadata": {},
   "outputs": [],
   "source": [
    "import os\n",
    "import pandas as pd\n",
    "\n",
    "from pathlib import Path\n",
    "from datetime import datetime\n",
    "\n",
    "from src.models.LogisticRegression import LogisticRegressionClassifier\n",
    "from src.models.SVM import SVMClassifier\n",
    "from src.models.RandomForest import RFClassifier\n",
    "from src.models.MLP import MLP\n",
    "from src.models.KN import KN\n",
    "from src.models.DecisionTree import DT\n",
    "from sklearn.model_selection import StratifiedKFold"
   ]
  },
  {
   "cell_type": "code",
   "execution_count": 2,
   "id": "0dff53a5",
   "metadata": {},
   "outputs": [],
   "source": [
    "# Variables used throughout the notebook\n",
    "project_root_dir = Path(os.path.abspath('')).resolve().parents[0]\n",
    "current_notebook = \"Training\"\n",
    "\n",
    "# output path for images\n",
    "image_folder_path = os.path.join(project_root_dir, \"notebooks\", current_notebook)\n",
    "os.makedirs(image_folder_path, exist_ok=True)"
   ]
  },
  {
   "cell_type": "code",
   "execution_count": 3,
   "id": "73dd7379",
   "metadata": {},
   "outputs": [],
   "source": [
    "def display_score(name, score):\n",
    "    score_string = name + ': '\n",
    "    for key in score:\n",
    "        score_string += key + '={:.4f}'.format(score[key]) + '\\t'\n",
    "\n",
    "    print(score_string)"
   ]
  },
  {
   "cell_type": "code",
   "execution_count": 4,
   "id": "5c8cc0ad",
   "metadata": {},
   "outputs": [],
   "source": [
    "def build_dict_from_results(name, score):\n",
    "    score['name'] = name\n",
    "    return score"
   ]
  },
  {
   "cell_type": "markdown",
   "id": "d6e4abce",
   "metadata": {},
   "source": [
    "## Data"
   ]
  },
  {
   "cell_type": "code",
   "execution_count": 5,
   "id": "55e7382b",
   "metadata": {},
   "outputs": [],
   "source": [
    "# import the data\n",
    "data_path = os.path.join(project_root_dir, 'data', 'processed')\n",
    "\n",
    "data = pd.read_csv(os.path.join(data_path, 'training_data.csv'))\n",
    "labels = pd.read_csv(os.path.join(data_path, 'training_labels.csv'))"
   ]
  },
  {
   "cell_type": "code",
   "execution_count": 6,
   "id": "a3d7d71e",
   "metadata": {},
   "outputs": [
    {
     "data": {
      "text/html": [
       "<div>\n",
       "<style scoped>\n",
       "    .dataframe tbody tr th:only-of-type {\n",
       "        vertical-align: middle;\n",
       "    }\n",
       "\n",
       "    .dataframe tbody tr th {\n",
       "        vertical-align: top;\n",
       "    }\n",
       "\n",
       "    .dataframe thead th {\n",
       "        text-align: right;\n",
       "    }\n",
       "</style>\n",
       "<table border=\"1\" class=\"dataframe\">\n",
       "  <thead>\n",
       "    <tr style=\"text-align: right;\">\n",
       "      <th></th>\n",
       "      <th>margin1</th>\n",
       "      <th>margin2</th>\n",
       "      <th>margin3</th>\n",
       "      <th>margin4</th>\n",
       "      <th>margin5</th>\n",
       "      <th>margin6</th>\n",
       "      <th>margin7</th>\n",
       "      <th>margin8</th>\n",
       "      <th>margin9</th>\n",
       "      <th>margin10</th>\n",
       "      <th>...</th>\n",
       "      <th>texture55</th>\n",
       "      <th>texture56</th>\n",
       "      <th>texture57</th>\n",
       "      <th>texture58</th>\n",
       "      <th>texture59</th>\n",
       "      <th>texture60</th>\n",
       "      <th>texture61</th>\n",
       "      <th>texture62</th>\n",
       "      <th>texture63</th>\n",
       "      <th>texture64</th>\n",
       "    </tr>\n",
       "  </thead>\n",
       "  <tbody>\n",
       "    <tr>\n",
       "      <th>count</th>\n",
       "      <td>792.000000</td>\n",
       "      <td>7.920000e+02</td>\n",
       "      <td>7.920000e+02</td>\n",
       "      <td>7.920000e+02</td>\n",
       "      <td>7.920000e+02</td>\n",
       "      <td>7.920000e+02</td>\n",
       "      <td>7.920000e+02</td>\n",
       "      <td>7.920000e+02</td>\n",
       "      <td>7.920000e+02</td>\n",
       "      <td>7.920000e+02</td>\n",
       "      <td>...</td>\n",
       "      <td>7.920000e+02</td>\n",
       "      <td>7.920000e+02</td>\n",
       "      <td>7.920000e+02</td>\n",
       "      <td>7.920000e+02</td>\n",
       "      <td>7.920000e+02</td>\n",
       "      <td>7.920000e+02</td>\n",
       "      <td>7.920000e+02</td>\n",
       "      <td>7.920000e+02</td>\n",
       "      <td>7.920000e+02</td>\n",
       "      <td>7.920000e+02</td>\n",
       "    </tr>\n",
       "    <tr>\n",
       "      <th>mean</th>\n",
       "      <td>0.000000</td>\n",
       "      <td>3.364312e-17</td>\n",
       "      <td>1.300867e-16</td>\n",
       "      <td>1.014901e-16</td>\n",
       "      <td>-5.719331e-17</td>\n",
       "      <td>1.166295e-16</td>\n",
       "      <td>-5.607187e-17</td>\n",
       "      <td>-1.794300e-17</td>\n",
       "      <td>-5.831474e-17</td>\n",
       "      <td>6.055762e-17</td>\n",
       "      <td>...</td>\n",
       "      <td>3.252168e-17</td>\n",
       "      <td>6.728624e-17</td>\n",
       "      <td>-2.018587e-17</td>\n",
       "      <td>5.382900e-17</td>\n",
       "      <td>-2.063445e-16</td>\n",
       "      <td>1.087794e-16</td>\n",
       "      <td>-1.570012e-17</td>\n",
       "      <td>2.018587e-17</td>\n",
       "      <td>4.934325e-17</td>\n",
       "      <td>-1.401797e-16</td>\n",
       "    </tr>\n",
       "    <tr>\n",
       "      <th>std</th>\n",
       "      <td>1.000632</td>\n",
       "      <td>1.000632e+00</td>\n",
       "      <td>1.000632e+00</td>\n",
       "      <td>1.000632e+00</td>\n",
       "      <td>1.000632e+00</td>\n",
       "      <td>1.000632e+00</td>\n",
       "      <td>1.000632e+00</td>\n",
       "      <td>1.000632e+00</td>\n",
       "      <td>1.000632e+00</td>\n",
       "      <td>1.000632e+00</td>\n",
       "      <td>...</td>\n",
       "      <td>1.000632e+00</td>\n",
       "      <td>1.000632e+00</td>\n",
       "      <td>1.000632e+00</td>\n",
       "      <td>1.000632e+00</td>\n",
       "      <td>1.000632e+00</td>\n",
       "      <td>1.000632e+00</td>\n",
       "      <td>1.000632e+00</td>\n",
       "      <td>1.000632e+00</td>\n",
       "      <td>1.000632e+00</td>\n",
       "      <td>1.000632e+00</td>\n",
       "    </tr>\n",
       "    <tr>\n",
       "      <th>min</th>\n",
       "      <td>-0.881617</td>\n",
       "      <td>-7.342717e-01</td>\n",
       "      <td>-1.240112e+00</td>\n",
       "      <td>-8.066802e-01</td>\n",
       "      <td>-7.626971e-01</td>\n",
       "      <td>-7.345422e-01</td>\n",
       "      <td>-1.095629e+00</td>\n",
       "      <td>-3.792727e-01</td>\n",
       "      <td>-8.283998e-01</td>\n",
       "      <td>-1.154050e+00</td>\n",
       "      <td>...</td>\n",
       "      <td>-5.656381e-01</td>\n",
       "      <td>-2.606863e-01</td>\n",
       "      <td>-7.002438e-01</td>\n",
       "      <td>-4.547012e-01</td>\n",
       "      <td>-1.046938e+00</td>\n",
       "      <td>-2.332711e-01</td>\n",
       "      <td>-2.344170e-01</td>\n",
       "      <td>-5.220187e-01</td>\n",
       "      <td>-6.579067e-01</td>\n",
       "      <td>-8.594620e-01</td>\n",
       "    </tr>\n",
       "    <tr>\n",
       "      <th>25%</th>\n",
       "      <td>-0.781026</td>\n",
       "      <td>-6.841764e-01</td>\n",
       "      <td>-7.047405e-01</td>\n",
       "      <td>-6.046400e-01</td>\n",
       "      <td>-6.580867e-01</td>\n",
       "      <td>-7.345422e-01</td>\n",
       "      <td>-7.569981e-01</td>\n",
       "      <td>-3.792727e-01</td>\n",
       "      <td>-6.039509e-01</td>\n",
       "      <td>-7.929953e-01</td>\n",
       "      <td>...</td>\n",
       "      <td>-5.656381e-01</td>\n",
       "      <td>-2.606863e-01</td>\n",
       "      <td>-6.572363e-01</td>\n",
       "      <td>-4.547012e-01</td>\n",
       "      <td>-7.272258e-01</td>\n",
       "      <td>-2.332711e-01</td>\n",
       "      <td>-2.344170e-01</td>\n",
       "      <td>-5.220187e-01</td>\n",
       "      <td>-6.579067e-01</td>\n",
       "      <td>-8.166401e-01</td>\n",
       "    </tr>\n",
       "    <tr>\n",
       "      <th>50%</th>\n",
       "      <td>-0.378613</td>\n",
       "      <td>-4.336742e-01</td>\n",
       "      <td>-3.223209e-01</td>\n",
       "      <td>-3.352186e-01</td>\n",
       "      <td>-3.442556e-01</td>\n",
       "      <td>-4.358417e-01</td>\n",
       "      <td>-3.054330e-01</td>\n",
       "      <td>-3.792727e-01</td>\n",
       "      <td>-1.550532e-01</td>\n",
       "      <td>-1.911757e-01</td>\n",
       "      <td>...</td>\n",
       "      <td>-4.886857e-01</td>\n",
       "      <td>-2.606863e-01</td>\n",
       "      <td>-4.423305e-01</td>\n",
       "      <td>-4.161063e-01</td>\n",
       "      <td>-2.157383e-01</td>\n",
       "      <td>-2.332711e-01</td>\n",
       "      <td>-2.344170e-01</td>\n",
       "      <td>-4.211254e-01</td>\n",
       "      <td>-4.445670e-01</td>\n",
       "      <td>-3.030405e-01</td>\n",
       "    </tr>\n",
       "    <tr>\n",
       "      <th>75%</th>\n",
       "      <td>0.426161</td>\n",
       "      <td>2.802158e-01</td>\n",
       "      <td>4.424790e-01</td>\n",
       "      <td>2.035897e-01</td>\n",
       "      <td>1.788499e-01</td>\n",
       "      <td>3.202531e-01</td>\n",
       "      <td>4.847627e-01</td>\n",
       "      <td>-3.792727e-01</td>\n",
       "      <td>6.939565e-02</td>\n",
       "      <td>5.309956e-01</td>\n",
       "      <td>...</td>\n",
       "      <td>6.919588e-02</td>\n",
       "      <td>-2.606863e-01</td>\n",
       "      <td>2.562342e-01</td>\n",
       "      <td>-1.075048e-01</td>\n",
       "      <td>3.597179e-01</td>\n",
       "      <td>-2.332711e-01</td>\n",
       "      <td>-2.344170e-01</td>\n",
       "      <td>8.339310e-02</td>\n",
       "      <td>2.664437e-01</td>\n",
       "      <td>4.246247e-01</td>\n",
       "    </tr>\n",
       "    <tr>\n",
       "      <th>max</th>\n",
       "      <td>3.444026</td>\n",
       "      <td>4.526119e+00</td>\n",
       "      <td>3.807779e+00</td>\n",
       "      <td>5.052796e+00</td>\n",
       "      <td>5.200577e+00</td>\n",
       "      <td>5.202191e+00</td>\n",
       "      <td>4.209929e+00</td>\n",
       "      <td>1.077247e+01</td>\n",
       "      <td>6.803321e+00</td>\n",
       "      <td>4.863900e+00</td>\n",
       "      <td>...</td>\n",
       "      <td>6.205956e+00</td>\n",
       "      <td>9.794375e+00</td>\n",
       "      <td>6.908617e+00</td>\n",
       "      <td>7.453904e+00</td>\n",
       "      <td>5.922832e+00</td>\n",
       "      <td>9.088584e+00</td>\n",
       "      <td>1.268766e+01</td>\n",
       "      <td>9.189677e+00</td>\n",
       "      <td>5.670489e+00</td>\n",
       "      <td>4.276973e+00</td>\n",
       "    </tr>\n",
       "  </tbody>\n",
       "</table>\n",
       "<p>8 rows × 192 columns</p>\n",
       "</div>"
      ],
      "text/plain": [
       "          margin1       margin2       margin3       margin4       margin5  \\\n",
       "count  792.000000  7.920000e+02  7.920000e+02  7.920000e+02  7.920000e+02   \n",
       "mean     0.000000  3.364312e-17  1.300867e-16  1.014901e-16 -5.719331e-17   \n",
       "std      1.000632  1.000632e+00  1.000632e+00  1.000632e+00  1.000632e+00   \n",
       "min     -0.881617 -7.342717e-01 -1.240112e+00 -8.066802e-01 -7.626971e-01   \n",
       "25%     -0.781026 -6.841764e-01 -7.047405e-01 -6.046400e-01 -6.580867e-01   \n",
       "50%     -0.378613 -4.336742e-01 -3.223209e-01 -3.352186e-01 -3.442556e-01   \n",
       "75%      0.426161  2.802158e-01  4.424790e-01  2.035897e-01  1.788499e-01   \n",
       "max      3.444026  4.526119e+00  3.807779e+00  5.052796e+00  5.200577e+00   \n",
       "\n",
       "            margin6       margin7       margin8       margin9      margin10  \\\n",
       "count  7.920000e+02  7.920000e+02  7.920000e+02  7.920000e+02  7.920000e+02   \n",
       "mean   1.166295e-16 -5.607187e-17 -1.794300e-17 -5.831474e-17  6.055762e-17   \n",
       "std    1.000632e+00  1.000632e+00  1.000632e+00  1.000632e+00  1.000632e+00   \n",
       "min   -7.345422e-01 -1.095629e+00 -3.792727e-01 -8.283998e-01 -1.154050e+00   \n",
       "25%   -7.345422e-01 -7.569981e-01 -3.792727e-01 -6.039509e-01 -7.929953e-01   \n",
       "50%   -4.358417e-01 -3.054330e-01 -3.792727e-01 -1.550532e-01 -1.911757e-01   \n",
       "75%    3.202531e-01  4.847627e-01 -3.792727e-01  6.939565e-02  5.309956e-01   \n",
       "max    5.202191e+00  4.209929e+00  1.077247e+01  6.803321e+00  4.863900e+00   \n",
       "\n",
       "       ...     texture55     texture56     texture57     texture58  \\\n",
       "count  ...  7.920000e+02  7.920000e+02  7.920000e+02  7.920000e+02   \n",
       "mean   ...  3.252168e-17  6.728624e-17 -2.018587e-17  5.382900e-17   \n",
       "std    ...  1.000632e+00  1.000632e+00  1.000632e+00  1.000632e+00   \n",
       "min    ... -5.656381e-01 -2.606863e-01 -7.002438e-01 -4.547012e-01   \n",
       "25%    ... -5.656381e-01 -2.606863e-01 -6.572363e-01 -4.547012e-01   \n",
       "50%    ... -4.886857e-01 -2.606863e-01 -4.423305e-01 -4.161063e-01   \n",
       "75%    ...  6.919588e-02 -2.606863e-01  2.562342e-01 -1.075048e-01   \n",
       "max    ...  6.205956e+00  9.794375e+00  6.908617e+00  7.453904e+00   \n",
       "\n",
       "          texture59     texture60     texture61     texture62     texture63  \\\n",
       "count  7.920000e+02  7.920000e+02  7.920000e+02  7.920000e+02  7.920000e+02   \n",
       "mean  -2.063445e-16  1.087794e-16 -1.570012e-17  2.018587e-17  4.934325e-17   \n",
       "std    1.000632e+00  1.000632e+00  1.000632e+00  1.000632e+00  1.000632e+00   \n",
       "min   -1.046938e+00 -2.332711e-01 -2.344170e-01 -5.220187e-01 -6.579067e-01   \n",
       "25%   -7.272258e-01 -2.332711e-01 -2.344170e-01 -5.220187e-01 -6.579067e-01   \n",
       "50%   -2.157383e-01 -2.332711e-01 -2.344170e-01 -4.211254e-01 -4.445670e-01   \n",
       "75%    3.597179e-01 -2.332711e-01 -2.344170e-01  8.339310e-02  2.664437e-01   \n",
       "max    5.922832e+00  9.088584e+00  1.268766e+01  9.189677e+00  5.670489e+00   \n",
       "\n",
       "          texture64  \n",
       "count  7.920000e+02  \n",
       "mean  -1.401797e-16  \n",
       "std    1.000632e+00  \n",
       "min   -8.594620e-01  \n",
       "25%   -8.166401e-01  \n",
       "50%   -3.030405e-01  \n",
       "75%    4.246247e-01  \n",
       "max    4.276973e+00  \n",
       "\n",
       "[8 rows x 192 columns]"
      ]
     },
     "execution_count": 6,
     "metadata": {},
     "output_type": "execute_result"
    }
   ],
   "source": [
    "data.describe()"
   ]
  },
  {
   "cell_type": "code",
   "execution_count": 7,
   "id": "f7803663",
   "metadata": {},
   "outputs": [
    {
     "data": {
      "text/html": [
       "<div>\n",
       "<style scoped>\n",
       "    .dataframe tbody tr th:only-of-type {\n",
       "        vertical-align: middle;\n",
       "    }\n",
       "\n",
       "    .dataframe tbody tr th {\n",
       "        vertical-align: top;\n",
       "    }\n",
       "\n",
       "    .dataframe thead th {\n",
       "        text-align: right;\n",
       "    }\n",
       "</style>\n",
       "<table border=\"1\" class=\"dataframe\">\n",
       "  <thead>\n",
       "    <tr style=\"text-align: right;\">\n",
       "      <th></th>\n",
       "      <th>species</th>\n",
       "    </tr>\n",
       "  </thead>\n",
       "  <tbody>\n",
       "    <tr>\n",
       "      <th>count</th>\n",
       "      <td>792.000000</td>\n",
       "    </tr>\n",
       "    <tr>\n",
       "      <th>mean</th>\n",
       "      <td>49.000000</td>\n",
       "    </tr>\n",
       "    <tr>\n",
       "      <th>std</th>\n",
       "      <td>28.595439</td>\n",
       "    </tr>\n",
       "    <tr>\n",
       "      <th>min</th>\n",
       "      <td>0.000000</td>\n",
       "    </tr>\n",
       "    <tr>\n",
       "      <th>25%</th>\n",
       "      <td>24.000000</td>\n",
       "    </tr>\n",
       "    <tr>\n",
       "      <th>50%</th>\n",
       "      <td>49.000000</td>\n",
       "    </tr>\n",
       "    <tr>\n",
       "      <th>75%</th>\n",
       "      <td>74.000000</td>\n",
       "    </tr>\n",
       "    <tr>\n",
       "      <th>max</th>\n",
       "      <td>98.000000</td>\n",
       "    </tr>\n",
       "  </tbody>\n",
       "</table>\n",
       "</div>"
      ],
      "text/plain": [
       "          species\n",
       "count  792.000000\n",
       "mean    49.000000\n",
       "std     28.595439\n",
       "min      0.000000\n",
       "25%     24.000000\n",
       "50%     49.000000\n",
       "75%     74.000000\n",
       "max     98.000000"
      ]
     },
     "execution_count": 7,
     "metadata": {},
     "output_type": "execute_result"
    }
   ],
   "source": [
    "labels.describe()"
   ]
  },
  {
   "cell_type": "code",
   "execution_count": 8,
   "id": "85af32b8",
   "metadata": {},
   "outputs": [],
   "source": [
    "s_k_fold = StratifiedKFold(n_splits=5, shuffle=True, random_state=42)"
   ]
  },
  {
   "cell_type": "markdown",
   "id": "62dabc2f",
   "metadata": {},
   "source": [
    "## Training"
   ]
  },
  {
   "cell_type": "code",
   "execution_count": 9,
   "id": "a5d67fd6",
   "metadata": {},
   "outputs": [],
   "source": [
    "score_list = []"
   ]
  },
  {
   "cell_type": "markdown",
   "id": "d3eeb96e",
   "metadata": {},
   "source": [
    "### Logistic regression"
   ]
  },
  {
   "cell_type": "code",
   "execution_count": 10,
   "id": "390be6e1",
   "metadata": {},
   "outputs": [
    {
     "name": "stdout",
     "output_type": "stream",
     "text": [
      "Logistic Regression:Creating\n"
     ]
    }
   ],
   "source": [
    "from src.models.LogisticRegression import LogisticRegressionClassifier\n",
    "\n",
    "lr_clf = LogisticRegressionClassifier(s_k_fold)"
   ]
  },
  {
   "cell_type": "code",
   "execution_count": 11,
   "id": "e029a8dd",
   "metadata": {},
   "outputs": [
    {
     "name": "stdout",
     "output_type": "stream",
     "text": [
      "Logistic Regression:Initialization\n",
      "Logistic Regression: f1=0.9843\tprecision=0.9848\trecall=0.9874\taccuracy=0.9874\tlog_loss=0.1454\t\n"
     ]
    }
   ],
   "source": [
    "# print results without any optimization\n",
    "lr_clf.cross_validate(data, labels, optimized=False)\n",
    "display_score(lr_clf.name, lr_clf.get_score())\n",
    "\n",
    "score_list.append(build_dict_from_results(lr_clf.name, lr_clf.get_score()))"
   ]
  },
  {
   "cell_type": "code",
   "execution_count": null,
   "id": "d56a6733",
   "metadata": {},
   "outputs": [],
   "source": [
    "# This method will search the best set of hyperparameters with a RandomSearch. \n",
    "# The hyper-parameters have been fitted to have to the best range\n",
    "lr_clf.optimize(data, labels)"
   ]
  },
  {
   "cell_type": "code",
   "execution_count": 12,
   "id": "8b7bdca2",
   "metadata": {},
   "outputs": [
    {
     "name": "stdout",
     "output_type": "stream",
     "text": [
      "Logistic Regression:Initialization\n",
      "Logistic Regression:C:390.01768308021974 penalty:l2 solver:lbfgs \n",
      "Logistic Regression: f1=0.9843\tprecision=0.9848\trecall=0.9874\taccuracy=0.9874\tlog_loss=0.0542\t\n"
     ]
    }
   ],
   "source": [
    "lr_clf.cross_validate(data, labels, optimized=True)\n",
    "display_score(lr_clf.name, lr_clf.get_score())\n",
    "\n",
    "score_list.append(build_dict_from_results(lr_clf.name, lr_clf.get_score()))"
   ]
  },
  {
   "cell_type": "markdown",
   "id": "97a9aee5",
   "metadata": {},
   "source": [
    "### SVM"
   ]
  },
  {
   "cell_type": "code",
   "execution_count": 13,
   "id": "ef830b8f",
   "metadata": {},
   "outputs": [
    {
     "name": "stdout",
     "output_type": "stream",
     "text": [
      "SVM:Creating\n"
     ]
    }
   ],
   "source": [
    "from src.models.SVM import SVMClassifier\n",
    "\n",
    "svm_clf = SVMClassifier(s_k_fold)"
   ]
  },
  {
   "cell_type": "code",
   "execution_count": 14,
   "id": "03713366",
   "metadata": {},
   "outputs": [
    {
     "name": "stdout",
     "output_type": "stream",
     "text": [
      "SVM:Initialization\n",
      "SVM: f1=0.9749\tprecision=0.9783\trecall=0.9785\taccuracy=0.9785\tlog_loss=2.5780\t\n"
     ]
    }
   ],
   "source": [
    "# print results without any optimization\n",
    "svm_clf.cross_validate(data, labels, optimized=False)\n",
    "display_score(svm_clf.name, svm_clf.get_score())\n",
    "\n",
    "score_list.append(build_dict_from_results(svm_clf.name, svm_clf.get_score()))"
   ]
  },
  {
   "cell_type": "code",
   "execution_count": null,
   "id": "3c8842ac",
   "metadata": {},
   "outputs": [],
   "source": [
    "# This method will search the best set of hyperparameters with a RandomSearch. \n",
    "# The hyper-parameters have been fitted to have to the best range\n",
    "svm_clf.optimize(data, labels)"
   ]
  },
  {
   "cell_type": "code",
   "execution_count": 15,
   "id": "3072a92d",
   "metadata": {},
   "outputs": [
    {
     "name": "stdout",
     "output_type": "stream",
     "text": [
      "SVM:Initialization\n",
      "SVM:probability:True kernel:poly gamma:auto degree:1 C:1.7782794100389228e+74 \n",
      "SVM: f1=0.9808\tprecision=0.9834\trecall=0.9836\taccuracy=0.9836\tlog_loss=2.5311\t\n"
     ]
    }
   ],
   "source": [
    "svm_clf.cross_validate(data, labels, optimized=True)\n",
    "display_score(svm_clf.name, svm_clf.get_score())\n",
    "\n",
    "score_list.append(build_dict_from_results(svm_clf.name, svm_clf.get_score()))"
   ]
  },
  {
   "cell_type": "markdown",
   "id": "2ae4e714",
   "metadata": {},
   "source": [
    "### Random forest"
   ]
  },
  {
   "cell_type": "code",
   "execution_count": 16,
   "id": "89c95ba1",
   "metadata": {},
   "outputs": [
    {
     "name": "stdout",
     "output_type": "stream",
     "text": [
      "Random Forest:Creating\n"
     ]
    }
   ],
   "source": [
    "from src.models.RandomForest import RFClassifier\n",
    "\n",
    "rf_clf = RFClassifier(s_k_fold)"
   ]
  },
  {
   "cell_type": "code",
   "execution_count": 17,
   "id": "0de8aad3",
   "metadata": {},
   "outputs": [
    {
     "name": "stdout",
     "output_type": "stream",
     "text": [
      "Random Forest:Initialization\n",
      "Random Forest: f1=0.9709\tprecision=0.9785\trecall=0.9735\taccuracy=0.9735\tlog_loss=0.9300\t\n"
     ]
    }
   ],
   "source": [
    "# print results without any optimization\n",
    "rf_clf.cross_validate(data, labels, optimized=False)\n",
    "display_score(rf_clf.name, rf_clf.get_score())\n",
    "\n",
    "score_list.append(build_dict_from_results(rf_clf.name, rf_clf.get_score()))"
   ]
  },
  {
   "cell_type": "code",
   "execution_count": null,
   "id": "6bb3442f",
   "metadata": {},
   "outputs": [],
   "source": [
    "# This method will search the best set of hyperparameters with a RandomSearch. \n",
    "# The hyper-parameters have been fitted to have to the best range\n",
    "rf_clf.optimize(data, labels)"
   ]
  },
  {
   "cell_type": "code",
   "execution_count": null,
   "id": "31ad0bd0",
   "metadata": {},
   "outputs": [
    {
     "name": "stdout",
     "output_type": "stream",
     "text": [
      "Random Forest:Initialization\n",
      "Random Forest:random_state:42 n_estimators:4000 min_samples_split:2 min_samples_leaf:1 max_features:None max_depth:12 criterion:entropy \n"
     ]
    }
   ],
   "source": [
    "rf_clf.cross_validate(data, labels, optimized=True)\n",
    "display_score(rf_clf.name, rf_clf.get_score())\n",
    "\n",
    "score_list.append(build_dict_from_results(rf_clf.name, rf_clf.get_score()))"
   ]
  },
  {
   "cell_type": "markdown",
   "id": "43a593be",
   "metadata": {},
   "source": [
    "### Multi layer perceptron"
   ]
  },
  {
   "cell_type": "code",
   "execution_count": null,
   "id": "7776192b",
   "metadata": {},
   "outputs": [],
   "source": [
    "from src.models.MLP import MLP\n",
    "\n",
    "mlp_clf = MLP(s_k_fold)"
   ]
  },
  {
   "cell_type": "code",
   "execution_count": null,
   "id": "16089abb",
   "metadata": {},
   "outputs": [],
   "source": [
    "# print results without any optimization\n",
    "mlp_clf.cross_validate(data, labels, optimized=False)\n",
    "display_score(mlp_clf.name, mlp_clf.get_score())\n",
    "\n",
    "score_list.append(build_dict_from_results(mlp_clf.name, mlp_clf.get_score()))"
   ]
  },
  {
   "cell_type": "code",
   "execution_count": null,
   "id": "12d8737f",
   "metadata": {},
   "outputs": [],
   "source": [
    "# This method will search the best set of hyperparameters with a RandomSearch. \n",
    "# The hyper-parameters have been fitted to have to the best range\n",
    "mlp_clf.optimize(data, labels)"
   ]
  },
  {
   "cell_type": "code",
   "execution_count": null,
   "id": "8cb9011a",
   "metadata": {},
   "outputs": [],
   "source": [
    "mlp_clf.cross_validate(data, labels, optimized=True)\n",
    "display_score(mlp_clf.name, mlp_clf.get_score())\n",
    "\n",
    "score_list.append(build_dict_from_results(mlp_clf.name, mlp_clf.get_score()))"
   ]
  },
  {
   "cell_type": "markdown",
   "id": "4374c01a",
   "metadata": {},
   "source": [
    "### KNeighbors "
   ]
  },
  {
   "cell_type": "code",
   "execution_count": null,
   "id": "52a35075",
   "metadata": {},
   "outputs": [],
   "source": [
    "from src.models.KN import KN\n",
    "\n",
    "kn_clf = KN(s_k_fold)"
   ]
  },
  {
   "cell_type": "code",
   "execution_count": null,
   "id": "38c89760",
   "metadata": {},
   "outputs": [],
   "source": [
    "# print results without any optimization\n",
    "kn_clf.cross_validate(data, labels, optimized=False)\n",
    "display_score(kn_clf.name, kn_clf.get_score())\n",
    "\n",
    "score_list.append(build_dict_from_results(kn_clf.name, kn_clf.get_score()))"
   ]
  },
  {
   "cell_type": "code",
   "execution_count": null,
   "id": "9f2fb697",
   "metadata": {},
   "outputs": [],
   "source": [
    "# This method will search the best set of hyperparameters with a RandomSearch. \n",
    "# The hyper-parameters have been fitted to have to the best range\n",
    "kn_clf.optimize(data, labels)"
   ]
  },
  {
   "cell_type": "code",
   "execution_count": null,
   "id": "cc552f14",
   "metadata": {},
   "outputs": [],
   "source": [
    "kn_clf.cross_validate(data, labels, optimized=True)\n",
    "display_score(kn_clf.name, mlp_clf.get_score())\n",
    "\n",
    "score_list.append(build_dict_from_results(kn_clf.name, kn_clf.get_score()))"
   ]
  },
  {
   "cell_type": "markdown",
   "id": "792e421d",
   "metadata": {},
   "source": [
    "### Decision Tree"
   ]
  },
  {
   "cell_type": "code",
   "execution_count": null,
   "id": "71114c05",
   "metadata": {},
   "outputs": [],
   "source": [
    "from src.models.DecisionTree import DT\n",
    "\n",
    "dt_clf = DT(s_k_fold)"
   ]
  },
  {
   "cell_type": "code",
   "execution_count": null,
   "id": "ab616add",
   "metadata": {},
   "outputs": [],
   "source": [
    "# print results without any optimization\n",
    "dt_clf.cross_validate(data, labels, optimized=False)\n",
    "display_score(dt_clf.name, dt_clf.get_score())\n",
    "\n",
    "score_list.append(build_dict_from_results(dt_clf.name, dt_clf.get_score()))"
   ]
  },
  {
   "cell_type": "code",
   "execution_count": null,
   "id": "c8656ee0",
   "metadata": {},
   "outputs": [],
   "source": [
    "# This method will search the best set of hyperparameters with a RandomSearch. \n",
    "# The hyper-parameters have been fitted to have to the best range\n",
    "dt_clf.optimize(data, labels)"
   ]
  },
  {
   "cell_type": "code",
   "execution_count": null,
   "id": "914c755e",
   "metadata": {},
   "outputs": [],
   "source": [
    "dt_clf.cross_validate(data, labels, optimized=True)\n",
    "display_score(kn_clf.name, mlp_clf.get_score())\n",
    "\n",
    "score_list.append(build_dict_from_results(dt_clf.name, dt_clf.get_score()))"
   ]
  }
 ],
 "metadata": {
  "kernelspec": {
   "display_name": "Python 3 (ipykernel)",
   "language": "python",
   "name": "python3"
  },
  "language_info": {
   "codemirror_mode": {
    "name": "ipython",
    "version": 3
   },
   "file_extension": ".py",
   "mimetype": "text/x-python",
   "name": "python",
   "nbconvert_exporter": "python",
   "pygments_lexer": "ipython3",
   "version": "3.8.0"
  }
 },
 "nbformat": 4,
 "nbformat_minor": 5
}
