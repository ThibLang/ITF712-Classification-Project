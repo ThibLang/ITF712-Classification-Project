{
 "cells": [
  {
   "cell_type": "code",
   "execution_count": 1,
   "metadata": {},
   "outputs": [],
   "source": [
    "import os\n",
    "import pandas as pd\n",
    "\n",
    "from pathlib import Path\n",
    "from datetime import datetime\n",
    "\n",
    "from src.models.LogisticRegression import LogisticRegressionClassifier\n",
    "from src.models.SVM import SVMClassifier\n",
    "from src.models.RandomForest import RFClassifier\n",
    "from src.models.MLP import MLP\n",
    "from src.models.KN import KN\n",
    "from src.models.DecisionTree import DT\n",
    "from sklearn.model_selection import StratifiedKFold"
   ]
  },
  {
   "cell_type": "code",
   "execution_count": 2,
   "metadata": {},
   "outputs": [],
   "source": [
    "# Variables used throughout the notebook\n",
    "project_root_dir = Path(os.path.abspath('')).resolve()\n",
    "current_notebook = \"Training\"\n",
    "\n",
    "# output path for images\n",
    "image_folder_path = os.path.join(project_root_dir, \"notebooks\", current_notebook)\n",
    "os.makedirs(image_folder_path, exist_ok=True)"
   ]
  },
  {
   "cell_type": "code",
   "execution_count": 3,
   "metadata": {},
   "outputs": [],
   "source": [
    "def display_score(name, score):\n",
    "    score_string = name + ': '\n",
    "    for key in score:\n",
    "        score_string += key + '={:.4f}'.format(score[key]) + '\\t'\n",
    "\n",
    "    print(score_string)"
   ]
  },
  {
   "cell_type": "code",
   "execution_count": 4,
   "metadata": {},
   "outputs": [],
   "source": [
    "def build_dict_from_results(name, score):\n",
    "    score['name'] = name\n",
    "    return score"
   ]
  },
  {
   "cell_type": "markdown",
   "metadata": {},
   "source": [
    "## Data"
   ]
  },
  {
   "cell_type": "code",
   "execution_count": 5,
   "metadata": {},
   "outputs": [],
   "source": [
    "# import the data\n",
    "data_path = os.path.join(project_root_dir, 'data', 'processed')\n",
    "\n",
    "data = pd.read_csv(os.path.join(data_path, 'training_data.csv'))\n",
    "labels = pd.read_csv(os.path.join(data_path, 'training_labels.csv'))\n",
    "\n",
    "data_test = pd.read_csv(os.path.join(data_path, 'test_data.csv'))\n",
    "labels_test = pd.read_csv(os.path.join(data_path, 'test_labels.csv'))"
   ]
  },
  {
   "cell_type": "code",
   "execution_count": 6,
   "metadata": {},
   "outputs": [
    {
     "data": {
      "text/html": [
       "<div>\n",
       "<style scoped>\n",
       "    .dataframe tbody tr th:only-of-type {\n",
       "        vertical-align: middle;\n",
       "    }\n",
       "\n",
       "    .dataframe tbody tr th {\n",
       "        vertical-align: top;\n",
       "    }\n",
       "\n",
       "    .dataframe thead th {\n",
       "        text-align: right;\n",
       "    }\n",
       "</style>\n",
       "<table border=\"1\" class=\"dataframe\">\n",
       "  <thead>\n",
       "    <tr style=\"text-align: right;\">\n",
       "      <th></th>\n",
       "      <th>margin1</th>\n",
       "      <th>margin2</th>\n",
       "      <th>margin3</th>\n",
       "      <th>margin4</th>\n",
       "      <th>margin5</th>\n",
       "      <th>margin6</th>\n",
       "      <th>margin7</th>\n",
       "      <th>margin8</th>\n",
       "      <th>margin9</th>\n",
       "      <th>margin10</th>\n",
       "      <th>...</th>\n",
       "      <th>texture55</th>\n",
       "      <th>texture56</th>\n",
       "      <th>texture57</th>\n",
       "      <th>texture58</th>\n",
       "      <th>texture59</th>\n",
       "      <th>texture60</th>\n",
       "      <th>texture61</th>\n",
       "      <th>texture62</th>\n",
       "      <th>texture63</th>\n",
       "      <th>texture64</th>\n",
       "    </tr>\n",
       "  </thead>\n",
       "  <tbody>\n",
       "    <tr>\n",
       "      <th>count</th>\n",
       "      <td>792.000000</td>\n",
       "      <td>792.000000</td>\n",
       "      <td>792.000000</td>\n",
       "      <td>792.000000</td>\n",
       "      <td>792.000000</td>\n",
       "      <td>792.000000</td>\n",
       "      <td>792.000000</td>\n",
       "      <td>792.000000</td>\n",
       "      <td>792.000000</td>\n",
       "      <td>792.000000</td>\n",
       "      <td>...</td>\n",
       "      <td>792.000000</td>\n",
       "      <td>792.000000</td>\n",
       "      <td>792.000000</td>\n",
       "      <td>792.000000</td>\n",
       "      <td>792.000000</td>\n",
       "      <td>792.000000</td>\n",
       "      <td>792.000000</td>\n",
       "      <td>792.000000</td>\n",
       "      <td>792.000000</td>\n",
       "      <td>792.000000</td>\n",
       "    </tr>\n",
       "    <tr>\n",
       "      <th>mean</th>\n",
       "      <td>0.203812</td>\n",
       "      <td>0.139585</td>\n",
       "      <td>0.245669</td>\n",
       "      <td>0.137671</td>\n",
       "      <td>0.127899</td>\n",
       "      <td>0.123728</td>\n",
       "      <td>0.206506</td>\n",
       "      <td>0.034010</td>\n",
       "      <td>0.108547</td>\n",
       "      <td>0.191768</td>\n",
       "      <td>...</td>\n",
       "      <td>0.083531</td>\n",
       "      <td>0.025926</td>\n",
       "      <td>0.092030</td>\n",
       "      <td>0.057494</td>\n",
       "      <td>0.150211</td>\n",
       "      <td>0.025024</td>\n",
       "      <td>0.018141</td>\n",
       "      <td>0.053752</td>\n",
       "      <td>0.103961</td>\n",
       "      <td>0.167327</td>\n",
       "    </tr>\n",
       "    <tr>\n",
       "      <th>std</th>\n",
       "      <td>0.231326</td>\n",
       "      <td>0.190220</td>\n",
       "      <td>0.198228</td>\n",
       "      <td>0.170772</td>\n",
       "      <td>0.167799</td>\n",
       "      <td>0.168549</td>\n",
       "      <td>0.188601</td>\n",
       "      <td>0.089729</td>\n",
       "      <td>0.131115</td>\n",
       "      <td>0.166275</td>\n",
       "      <td>...</td>\n",
       "      <td>0.147769</td>\n",
       "      <td>0.099515</td>\n",
       "      <td>0.131509</td>\n",
       "      <td>0.126524</td>\n",
       "      <td>0.143567</td>\n",
       "      <td>0.107343</td>\n",
       "      <td>0.077436</td>\n",
       "      <td>0.103034</td>\n",
       "      <td>0.158118</td>\n",
       "      <td>0.194811</td>\n",
       "    </tr>\n",
       "    <tr>\n",
       "      <th>min</th>\n",
       "      <td>0.000000</td>\n",
       "      <td>0.000000</td>\n",
       "      <td>0.000000</td>\n",
       "      <td>0.000000</td>\n",
       "      <td>0.000000</td>\n",
       "      <td>0.000000</td>\n",
       "      <td>0.000000</td>\n",
       "      <td>0.000000</td>\n",
       "      <td>0.000000</td>\n",
       "      <td>0.000000</td>\n",
       "      <td>...</td>\n",
       "      <td>0.000000</td>\n",
       "      <td>0.000000</td>\n",
       "      <td>0.000000</td>\n",
       "      <td>0.000000</td>\n",
       "      <td>0.000000</td>\n",
       "      <td>0.000000</td>\n",
       "      <td>0.000000</td>\n",
       "      <td>0.000000</td>\n",
       "      <td>0.000000</td>\n",
       "      <td>0.000000</td>\n",
       "    </tr>\n",
       "    <tr>\n",
       "      <th>25%</th>\n",
       "      <td>0.023254</td>\n",
       "      <td>0.009523</td>\n",
       "      <td>0.106058</td>\n",
       "      <td>0.034481</td>\n",
       "      <td>0.017542</td>\n",
       "      <td>0.000000</td>\n",
       "      <td>0.063826</td>\n",
       "      <td>0.000000</td>\n",
       "      <td>0.029410</td>\n",
       "      <td>0.059996</td>\n",
       "      <td>...</td>\n",
       "      <td>0.000000</td>\n",
       "      <td>0.000000</td>\n",
       "      <td>0.005652</td>\n",
       "      <td>0.000000</td>\n",
       "      <td>0.045871</td>\n",
       "      <td>0.000000</td>\n",
       "      <td>0.000000</td>\n",
       "      <td>0.000000</td>\n",
       "      <td>0.000000</td>\n",
       "      <td>0.008337</td>\n",
       "    </tr>\n",
       "    <tr>\n",
       "      <th>50%</th>\n",
       "      <td>0.116284</td>\n",
       "      <td>0.057144</td>\n",
       "      <td>0.181817</td>\n",
       "      <td>0.080461</td>\n",
       "      <td>0.070170</td>\n",
       "      <td>0.050314</td>\n",
       "      <td>0.148937</td>\n",
       "      <td>0.000000</td>\n",
       "      <td>0.088230</td>\n",
       "      <td>0.160000</td>\n",
       "      <td>...</td>\n",
       "      <td>0.011364</td>\n",
       "      <td>0.000000</td>\n",
       "      <td>0.033896</td>\n",
       "      <td>0.004880</td>\n",
       "      <td>0.119258</td>\n",
       "      <td>0.000000</td>\n",
       "      <td>0.000000</td>\n",
       "      <td>0.010389</td>\n",
       "      <td>0.033711</td>\n",
       "      <td>0.108328</td>\n",
       "    </tr>\n",
       "    <tr>\n",
       "      <th>75%</th>\n",
       "      <td>0.302331</td>\n",
       "      <td>0.192854</td>\n",
       "      <td>0.333326</td>\n",
       "      <td>0.172416</td>\n",
       "      <td>0.157891</td>\n",
       "      <td>0.177673</td>\n",
       "      <td>0.297875</td>\n",
       "      <td>0.000000</td>\n",
       "      <td>0.117640</td>\n",
       "      <td>0.280003</td>\n",
       "      <td>...</td>\n",
       "      <td>0.093750</td>\n",
       "      <td>0.000000</td>\n",
       "      <td>0.125706</td>\n",
       "      <td>0.043901</td>\n",
       "      <td>0.201822</td>\n",
       "      <td>0.000000</td>\n",
       "      <td>0.000000</td>\n",
       "      <td>0.062338</td>\n",
       "      <td>0.146064</td>\n",
       "      <td>0.249996</td>\n",
       "    </tr>\n",
       "    <tr>\n",
       "      <th>max</th>\n",
       "      <td>1.000000</td>\n",
       "      <td>1.000000</td>\n",
       "      <td>1.000000</td>\n",
       "      <td>1.000000</td>\n",
       "      <td>1.000000</td>\n",
       "      <td>1.000000</td>\n",
       "      <td>1.000000</td>\n",
       "      <td>1.000000</td>\n",
       "      <td>1.000000</td>\n",
       "      <td>1.000000</td>\n",
       "      <td>...</td>\n",
       "      <td>1.000000</td>\n",
       "      <td>1.000000</td>\n",
       "      <td>1.000000</td>\n",
       "      <td>1.000000</td>\n",
       "      <td>1.000000</td>\n",
       "      <td>1.000000</td>\n",
       "      <td>1.000000</td>\n",
       "      <td>1.000000</td>\n",
       "      <td>1.000000</td>\n",
       "      <td>1.000000</td>\n",
       "    </tr>\n",
       "  </tbody>\n",
       "</table>\n",
       "<p>8 rows × 192 columns</p>\n",
       "</div>"
      ],
      "text/plain": [
       "          margin1     margin2     margin3     margin4     margin5     margin6  \\\n",
       "count  792.000000  792.000000  792.000000  792.000000  792.000000  792.000000   \n",
       "mean     0.203812    0.139585    0.245669    0.137671    0.127899    0.123728   \n",
       "std      0.231326    0.190220    0.198228    0.170772    0.167799    0.168549   \n",
       "min      0.000000    0.000000    0.000000    0.000000    0.000000    0.000000   \n",
       "25%      0.023254    0.009523    0.106058    0.034481    0.017542    0.000000   \n",
       "50%      0.116284    0.057144    0.181817    0.080461    0.070170    0.050314   \n",
       "75%      0.302331    0.192854    0.333326    0.172416    0.157891    0.177673   \n",
       "max      1.000000    1.000000    1.000000    1.000000    1.000000    1.000000   \n",
       "\n",
       "          margin7     margin8     margin9    margin10  ...   texture55  \\\n",
       "count  792.000000  792.000000  792.000000  792.000000  ...  792.000000   \n",
       "mean     0.206506    0.034010    0.108547    0.191768  ...    0.083531   \n",
       "std      0.188601    0.089729    0.131115    0.166275  ...    0.147769   \n",
       "min      0.000000    0.000000    0.000000    0.000000  ...    0.000000   \n",
       "25%      0.063826    0.000000    0.029410    0.059996  ...    0.000000   \n",
       "50%      0.148937    0.000000    0.088230    0.160000  ...    0.011364   \n",
       "75%      0.297875    0.000000    0.117640    0.280003  ...    0.093750   \n",
       "max      1.000000    1.000000    1.000000    1.000000  ...    1.000000   \n",
       "\n",
       "        texture56   texture57   texture58   texture59   texture60   texture61  \\\n",
       "count  792.000000  792.000000  792.000000  792.000000  792.000000  792.000000   \n",
       "mean     0.025926    0.092030    0.057494    0.150211    0.025024    0.018141   \n",
       "std      0.099515    0.131509    0.126524    0.143567    0.107343    0.077436   \n",
       "min      0.000000    0.000000    0.000000    0.000000    0.000000    0.000000   \n",
       "25%      0.000000    0.005652    0.000000    0.045871    0.000000    0.000000   \n",
       "50%      0.000000    0.033896    0.004880    0.119258    0.000000    0.000000   \n",
       "75%      0.000000    0.125706    0.043901    0.201822    0.000000    0.000000   \n",
       "max      1.000000    1.000000    1.000000    1.000000    1.000000    1.000000   \n",
       "\n",
       "        texture62   texture63   texture64  \n",
       "count  792.000000  792.000000  792.000000  \n",
       "mean     0.053752    0.103961    0.167327  \n",
       "std      0.103034    0.158118    0.194811  \n",
       "min      0.000000    0.000000    0.000000  \n",
       "25%      0.000000    0.000000    0.008337  \n",
       "50%      0.010389    0.033711    0.108328  \n",
       "75%      0.062338    0.146064    0.249996  \n",
       "max      1.000000    1.000000    1.000000  \n",
       "\n",
       "[8 rows x 192 columns]"
      ]
     },
     "execution_count": 6,
     "metadata": {},
     "output_type": "execute_result"
    }
   ],
   "source": [
    "data.describe()"
   ]
  },
  {
   "cell_type": "code",
   "execution_count": 7,
   "metadata": {},
   "outputs": [
    {
     "data": {
      "text/html": [
       "<div>\n",
       "<style scoped>\n",
       "    .dataframe tbody tr th:only-of-type {\n",
       "        vertical-align: middle;\n",
       "    }\n",
       "\n",
       "    .dataframe tbody tr th {\n",
       "        vertical-align: top;\n",
       "    }\n",
       "\n",
       "    .dataframe thead th {\n",
       "        text-align: right;\n",
       "    }\n",
       "</style>\n",
       "<table border=\"1\" class=\"dataframe\">\n",
       "  <thead>\n",
       "    <tr style=\"text-align: right;\">\n",
       "      <th></th>\n",
       "      <th>species</th>\n",
       "    </tr>\n",
       "  </thead>\n",
       "  <tbody>\n",
       "    <tr>\n",
       "      <th>count</th>\n",
       "      <td>792.000000</td>\n",
       "    </tr>\n",
       "    <tr>\n",
       "      <th>mean</th>\n",
       "      <td>49.000000</td>\n",
       "    </tr>\n",
       "    <tr>\n",
       "      <th>std</th>\n",
       "      <td>28.595439</td>\n",
       "    </tr>\n",
       "    <tr>\n",
       "      <th>min</th>\n",
       "      <td>0.000000</td>\n",
       "    </tr>\n",
       "    <tr>\n",
       "      <th>25%</th>\n",
       "      <td>24.000000</td>\n",
       "    </tr>\n",
       "    <tr>\n",
       "      <th>50%</th>\n",
       "      <td>49.000000</td>\n",
       "    </tr>\n",
       "    <tr>\n",
       "      <th>75%</th>\n",
       "      <td>74.000000</td>\n",
       "    </tr>\n",
       "    <tr>\n",
       "      <th>max</th>\n",
       "      <td>98.000000</td>\n",
       "    </tr>\n",
       "  </tbody>\n",
       "</table>\n",
       "</div>"
      ],
      "text/plain": [
       "          species\n",
       "count  792.000000\n",
       "mean    49.000000\n",
       "std     28.595439\n",
       "min      0.000000\n",
       "25%     24.000000\n",
       "50%     49.000000\n",
       "75%     74.000000\n",
       "max     98.000000"
      ]
     },
     "execution_count": 7,
     "metadata": {},
     "output_type": "execute_result"
    }
   ],
   "source": [
    "labels.describe()"
   ]
  },
  {
   "cell_type": "code",
   "execution_count": 8,
   "metadata": {},
   "outputs": [],
   "source": [
    "s_k_fold = StratifiedKFold(n_splits=5, shuffle=True, random_state=42)"
   ]
  },
  {
   "cell_type": "markdown",
   "metadata": {},
   "source": [
    "## Training"
   ]
  },
  {
   "cell_type": "code",
   "execution_count": 9,
   "metadata": {},
   "outputs": [],
   "source": [
    "score_list = []"
   ]
  },
  {
   "cell_type": "markdown",
   "metadata": {},
   "source": [
    "### Logistic regression"
   ]
  },
  {
   "cell_type": "code",
   "execution_count": 10,
   "metadata": {},
   "outputs": [
    {
     "name": "stdout",
     "output_type": "stream",
     "text": [
      "Logistic Regression:Creating\n"
     ]
    }
   ],
   "source": [
    "from src.models.LogisticRegression import LogisticRegressionClassifier\n",
    "\n",
    "lr_clf = LogisticRegressionClassifier(s_k_fold)"
   ]
  },
  {
   "cell_type": "code",
   "execution_count": 11,
   "metadata": {},
   "outputs": [
    {
     "name": "stdout",
     "output_type": "stream",
     "text": [
      "Logistic Regression:Initialization\n",
      "Logistic Regression: f1=0.9813\tprecision=0.9817\trecall=0.9848\taccuracy=0.9848\tlog_loss=0.9275\t\n"
     ]
    }
   ],
   "source": [
    "# print results without any optimization\n",
    "lr_clf.cross_validate(data, labels, optimized=False)\n",
    "display_score(lr_clf.name, lr_clf.get_score())\n",
    "\n",
    "score_list.append(build_dict_from_results(lr_clf.name, lr_clf.get_score()))"
   ]
  },
  {
   "cell_type": "code",
   "execution_count": 12,
   "metadata": {},
   "outputs": [
    {
     "name": "stdout",
     "output_type": "stream",
     "text": [
      "Logistic Regression:Initialization\n",
      "Logistic Regression:Start optimization\n",
      "Logistic Regression:end optimization\n"
     ]
    }
   ],
   "source": [
    "# This method will search the best set of hyperparameters with a RandomSearch. \n",
    "# The hyper-parameters have been fitted to have to the best range\n",
    "lr_clf.optimize(data, labels)"
   ]
  },
  {
   "cell_type": "code",
   "execution_count": 13,
   "metadata": {},
   "outputs": [
    {
     "name": "stdout",
     "output_type": "stream",
     "text": [
      "Logistic Regression:Initialization\n",
      "Logistic Regression:C:390.01768308021974 penalty:l2 solver:lbfgs \n",
      "Logistic Regression: f1=0.9874\tprecision=0.9876\trecall=0.9899\taccuracy=0.9899\tlog_loss=0.0722\t\n"
     ]
    }
   ],
   "source": [
    "lr_clf.cross_validate(data, labels, optimized=True)\n",
    "display_score(lr_clf.name, lr_clf.get_score())\n",
    "\n",
    "score_list.append(build_dict_from_results(lr_clf.name + '_o', lr_clf.get_score()))"
   ]
  },
  {
   "cell_type": "markdown",
   "metadata": {},
   "source": [
    "### SVM"
   ]
  },
  {
   "cell_type": "code",
   "execution_count": 14,
   "metadata": {},
   "outputs": [
    {
     "name": "stdout",
     "output_type": "stream",
     "text": [
      "SVM:Creating\n"
     ]
    }
   ],
   "source": [
    "from src.models.SVM import SVMClassifier\n",
    "\n",
    "svm_clf = SVMClassifier(s_k_fold)"
   ]
  },
  {
   "cell_type": "code",
   "execution_count": 15,
   "metadata": {},
   "outputs": [
    {
     "name": "stdout",
     "output_type": "stream",
     "text": [
      "SVM:Initialization\n",
      "SVM: f1=0.9860\tprecision=0.9863\trecall=0.9886\taccuracy=0.9886\tlog_loss=2.5717\t\n"
     ]
    }
   ],
   "source": [
    "# print results without any optimization\n",
    "svm_clf.cross_validate(data, labels, optimized=False)\n",
    "display_score(svm_clf.name, svm_clf.get_score())\n",
    "\n",
    "score_list.append(build_dict_from_results(svm_clf.name, svm_clf.get_score()))"
   ]
  },
  {
   "cell_type": "code",
   "execution_count": 16,
   "metadata": {},
   "outputs": [
    {
     "name": "stdout",
     "output_type": "stream",
     "text": [
      "SVM:Initialization\n",
      "SVM:Start optimization\n",
      "Fitting 5 folds for each of 5 candidates, totalling 25 fits\n"
     ]
    },
    {
     "name": "stderr",
     "output_type": "stream",
     "text": [
      "[Parallel(n_jobs=-1)]: Using backend LokyBackend with 96 concurrent workers.\n",
      "[Parallel(n_jobs=-1)]: Done  16 out of  25 | elapsed:    1.3s remaining:    0.7s\n",
      "[Parallel(n_jobs=-1)]: Done  25 out of  25 | elapsed:    1.6s finished\n"
     ]
    },
    {
     "name": "stdout",
     "output_type": "stream",
     "text": [
      "SVM:end optimization\n"
     ]
    }
   ],
   "source": [
    "# This method will search the best set of hyperparameters with a RandomSearch. \n",
    "# The hyper-parameters have been fitted to have to the best range\n",
    "svm_clf.optimize(data, labels)"
   ]
  },
  {
   "cell_type": "code",
   "execution_count": 17,
   "metadata": {},
   "outputs": [
    {
     "name": "stdout",
     "output_type": "stream",
     "text": [
      "SVM:Initialization\n",
      "SVM:probability:True kernel:linear C:0.1 \n",
      "SVM: f1=0.8046\tprecision=0.8262\trecall=0.8270\taccuracy=0.8270\tlog_loss=2.6481\t\n"
     ]
    }
   ],
   "source": [
    "svm_clf.cross_validate(data, labels, optimized=True)\n",
    "display_score(svm_clf.name, svm_clf.get_score())\n",
    "\n",
    "score_list.append(build_dict_from_results(svm_clf.name + '_o', svm_clf.get_score()))"
   ]
  },
  {
   "cell_type": "markdown",
   "metadata": {},
   "source": [
    "### Random forest"
   ]
  },
  {
   "cell_type": "code",
   "execution_count": 18,
   "metadata": {},
   "outputs": [
    {
     "name": "stdout",
     "output_type": "stream",
     "text": [
      "Random Forest:Creating\n"
     ]
    }
   ],
   "source": [
    "from src.models.RandomForest import RFClassifier\n",
    "\n",
    "rf_clf = RFClassifier(s_k_fold)"
   ]
  },
  {
   "cell_type": "code",
   "execution_count": 19,
   "metadata": {},
   "outputs": [
    {
     "name": "stdout",
     "output_type": "stream",
     "text": [
      "Random Forest:Initialization\n",
      "Random Forest: f1=0.9702\tprecision=0.9766\trecall=0.9735\taccuracy=0.9735\tlog_loss=0.8863\t\n"
     ]
    }
   ],
   "source": [
    "# print results without any optimization\n",
    "rf_clf.cross_validate(data, labels, optimized=False)\n",
    "display_score(rf_clf.name, rf_clf.get_score())\n",
    "\n",
    "score_list.append(build_dict_from_results(rf_clf.name, rf_clf.get_score()))"
   ]
  },
  {
   "cell_type": "code",
   "execution_count": 20,
   "metadata": {},
   "outputs": [
    {
     "name": "stdout",
     "output_type": "stream",
     "text": [
      "Random Forest:Initialization\n",
      "Random Forest:Start optimization\n",
      "Fitting 5 folds for each of 50 candidates, totalling 250 fits\n"
     ]
    },
    {
     "name": "stderr",
     "output_type": "stream",
     "text": [
      "[Parallel(n_jobs=-1)]: Using backend LokyBackend with 96 concurrent workers.\n",
      "[Parallel(n_jobs=-1)]: Done   8 tasks      | elapsed:    0.6s\n",
      "[Parallel(n_jobs=-1)]: Done 250 out of 250 | elapsed:   27.7s finished\n"
     ]
    },
    {
     "name": "stdout",
     "output_type": "stream",
     "text": [
      "Random Forest:end optimization\n"
     ]
    }
   ],
   "source": [
    "# This method will search the best set of hyperparameters with a RandomSearch. \n",
    "# The hyper-parameters have been fitted to have to the best range\n",
    "rf_clf.optimize(data, labels)"
   ]
  },
  {
   "cell_type": "code",
   "execution_count": 21,
   "metadata": {},
   "outputs": [
    {
     "name": "stdout",
     "output_type": "stream",
     "text": [
      "Random Forest:Initialization\n",
      "Random Forest:random_state:42 n_estimators:1000 min_samples_split:6 min_samples_leaf:2 max_features:auto max_depth:10 criterion:entropy \n",
      "Random Forest: f1=0.9450\tprecision=0.9519\trecall=0.9521\taccuracy=0.9521\tlog_loss=1.0391\t\n"
     ]
    }
   ],
   "source": [
    "rf_clf.cross_validate(data, labels, optimized=True)\n",
    "display_score(rf_clf.name, rf_clf.get_score())\n",
    "\n",
    "score_list.append(build_dict_from_results(rf_clf.name + '_o', rf_clf.get_score()))"
   ]
  },
  {
   "cell_type": "markdown",
   "metadata": {},
   "source": [
    "### Multi layer perceptron"
   ]
  },
  {
   "cell_type": "code",
   "execution_count": 22,
   "metadata": {},
   "outputs": [
    {
     "name": "stdout",
     "output_type": "stream",
     "text": [
      "MLP:Creating\n"
     ]
    }
   ],
   "source": [
    "from src.models.MLP import MLP\n",
    "\n",
    "mlp_clf = MLP(s_k_fold)"
   ]
  },
  {
   "cell_type": "code",
   "execution_count": null,
   "metadata": {},
   "outputs": [
    {
     "name": "stdout",
     "output_type": "stream",
     "text": [
      "MLP:Initialization\n"
     ]
    }
   ],
   "source": [
    "# print results without any optimization\n",
    "mlp_clf.cross_validate(data, labels, optimized=False)\n",
    "display_score(mlp_clf.name, mlp_clf.get_score())\n",
    "\n",
    "score_list.append(build_dict_from_results(mlp_clf.name, mlp_clf.get_score()))"
   ]
  },
  {
   "cell_type": "code",
   "execution_count": null,
   "metadata": {},
   "outputs": [],
   "source": [
    "# This method will search the best set of hyperparameters with a RandomSearch. \n",
    "# The hyper-parameters have been fitted to have to the best range\n",
    "mlp_clf.optimize(data, labels)"
   ]
  },
  {
   "cell_type": "code",
   "execution_count": null,
   "metadata": {},
   "outputs": [],
   "source": [
    "mlp_clf.cross_validate(data, labels, optimized=True)\n",
    "display_score(mlp_clf.name, mlp_clf.get_score())\n",
    "\n",
    "score_list.append(build_dict_from_results(mlp_clf.name + '_o', mlp_clf.get_score()))"
   ]
  },
  {
   "cell_type": "markdown",
   "metadata": {},
   "source": [
    "### KNeighbors "
   ]
  },
  {
   "cell_type": "code",
   "execution_count": null,
   "metadata": {},
   "outputs": [],
   "source": [
    "from src.models.KN import KN\n",
    "\n",
    "kn_clf = KN(s_k_fold)"
   ]
  },
  {
   "cell_type": "code",
   "execution_count": null,
   "metadata": {},
   "outputs": [],
   "source": [
    "# print results without any optimization\n",
    "kn_clf.cross_validate(data, labels, optimized=False)\n",
    "display_score(kn_clf.name, kn_clf.get_score())\n",
    "\n",
    "score_list.append(build_dict_from_results(kn_clf.name, kn_clf.get_score()))"
   ]
  },
  {
   "cell_type": "code",
   "execution_count": null,
   "metadata": {},
   "outputs": [],
   "source": [
    "# This method will search the best set of hyperparameters with a RandomSearch. \n",
    "# The hyper-parameters have been fitted to have to the best range\n",
    "kn_clf.optimize(data, labels)"
   ]
  },
  {
   "cell_type": "code",
   "execution_count": null,
   "metadata": {},
   "outputs": [],
   "source": [
    "kn_clf.cross_validate(data, labels, optimized=True)\n",
    "display_score(kn_clf.name, kn_clf.get_score())\n",
    "\n",
    "score_list.append(build_dict_from_results(kn_clf.name + '_o', kn_clf.get_score()))"
   ]
  },
  {
   "cell_type": "markdown",
   "metadata": {},
   "source": [
    "### Decision Tree"
   ]
  },
  {
   "cell_type": "code",
   "execution_count": null,
   "metadata": {},
   "outputs": [],
   "source": [
    "from src.models.DecisionTree import DT\n",
    "\n",
    "dt_clf = DT(s_k_fold)"
   ]
  },
  {
   "cell_type": "code",
   "execution_count": null,
   "metadata": {},
   "outputs": [],
   "source": [
    "# print results without any optimization\n",
    "dt_clf.cross_validate(data, labels, optimized=False)\n",
    "display_score(dt_clf.name, dt_clf.get_score())\n",
    "\n",
    "score_list.append(build_dict_from_results(dt_clf.name, dt_clf.get_score()))"
   ]
  },
  {
   "cell_type": "code",
   "execution_count": null,
   "metadata": {},
   "outputs": [],
   "source": [
    "# This method will search the best set of hyperparameters with a RandomSearch. \n",
    "# The hyper-parameters have been fitted to have to the best range\n",
    "dt_clf.optimize(data, labels)"
   ]
  },
  {
   "cell_type": "code",
   "execution_count": null,
   "metadata": {},
   "outputs": [],
   "source": [
    "dt_clf.cross_validate(data, labels, optimized=True)\n",
    "display_score(dt_clf.name, dt_clf.get_score())\n",
    "\n",
    "score_list.append(build_dict_from_results(dt_clf.name + '_o', dt_clf.get_score()))"
   ]
  },
  {
   "cell_type": "markdown",
   "metadata": {},
   "source": [
    "## Result analysis"
   ]
  },
  {
   "cell_type": "code",
   "execution_count": null,
   "metadata": {},
   "outputs": [],
   "source": [
    "# build a dataframe from the list of results\n",
    "results = pd.DataFrame(score_list)"
   ]
  },
  {
   "cell_type": "code",
   "execution_count": null,
   "metadata": {},
   "outputs": [],
   "source": [
    "pd.set_option('display.max_rows', results.shape[0]+1)\n",
    "#print(results)\n",
    "print(results.sort_values('log_loss'))"
   ]
  },
  {
   "cell_type": "code",
   "execution_count": null,
   "metadata": {},
   "outputs": [],
   "source": [
    "validation_list = []\n",
    "\n",
    "lr_clf.validation(data_test, labels_test)\n",
    "validation_list.append(build_dict_from_results(lr_clf.name + '_o', lr_clf.get_score()))\n",
    "\n",
    "svm_clf.validation(data_test, labels_test)\n",
    "validation_list.append(build_dict_from_results(svm_clf.name + '_o', svm_clf.get_score()))\n",
    "\n",
    "mlp_clf.validation(data_test, labels_test)\n",
    "validation_list.append(build_dict_from_results(mlp_clf.name + '_o', mlp_clf.get_score()))\n",
    "\n",
    "rf_clf.validation(data_test, labels_test)\n",
    "validation_list.append(build_dict_from_results(rf_clf.name + '_o', rf_clf.get_score()))\n",
    "\n",
    "kn_clf.validation(data_test, labels_test)\n",
    "validation_list.append(build_dict_from_results(kn_clf.name + '_o', kn_clf.get_score()))\n",
    "\n",
    "dt_clf.validation(data_test, labels_test)\n",
    "validation_list.append(build_dict_from_results(dt_clf.name + '_o', dt_clf.get_score()))"
   ]
  },
  {
   "cell_type": "code",
   "execution_count": null,
   "metadata": {},
   "outputs": [],
   "source": [
    "results = pd.DataFrame(validation_list)\n",
    "print(results.sort_values('log_loss'))"
   ]
  },
  {
   "cell_type": "code",
   "execution_count": null,
   "metadata": {},
   "outputs": [],
   "source": []
  }
 ],
 "metadata": {
  "instance_type": "ml.m5.24xlarge",
  "kernelspec": {
   "display_name": "Python 3 (Data Science)",
   "language": "python",
   "name": "python3__SAGEMAKER_INTERNAL__arn:aws:sagemaker:ca-central-1:310906938811:image/datascience-1.0"
  },
  "language_info": {
   "codemirror_mode": {
    "name": "ipython",
    "version": 3
   },
   "file_extension": ".py",
   "mimetype": "text/x-python",
   "name": "python",
   "nbconvert_exporter": "python",
   "pygments_lexer": "ipython3",
   "version": "3.7.10"
  }
 },
 "nbformat": 4,
 "nbformat_minor": 5
}
