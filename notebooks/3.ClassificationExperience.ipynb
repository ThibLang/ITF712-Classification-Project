{
 "cells": [
  {
   "cell_type": "code",
   "execution_count": 1,
   "id": "82187ec1",
   "metadata": {},
   "outputs": [],
   "source": [
    "import pandas as pd\n",
    "import numpy as np\n",
    "import matplotlib as mpl\n",
    "import matplotlib.pyplot as plt\n",
    "import seaborn as sns\n",
    "from pandas import Series,DataFrame\n",
    "from pathlib import Path\n",
    "import os\n",
    "%matplotlib inline"
   ]
  },
  {
   "cell_type": "code",
   "execution_count": 2,
   "id": "6e29bb04",
   "metadata": {},
   "outputs": [],
   "source": [
    "import warnings\n",
    "warnings.filterwarnings('once')"
   ]
  },
  {
   "cell_type": "code",
   "execution_count": 3,
   "id": "b1c46426",
   "metadata": {},
   "outputs": [],
   "source": [
    "# Variables used throughout the notebook\n",
    "project_root_dir = Path(os.path.abspath('')).resolve().parents[0]\n",
    "current_notebook = \"Classification\"\n",
    "\n",
    "# output path for images\n",
    "image_folder_path = os.path.join(project_root_dir, \"notebooks\", current_notebook)\n",
    "os.makedirs(image_folder_path, exist_ok=True)\n",
    "\n",
    "# output path for data\n",
    "data_folder_path = os.path.join(project_root_dir, \"data\", \"interim\")"
   ]
  },
  {
   "cell_type": "code",
   "execution_count": 4,
   "id": "26581b7a",
   "metadata": {},
   "outputs": [],
   "source": [
    "# matplotlib variable \n",
    "mpl.rc('axes', labelsize=14)\n",
    "mpl.rc('xtick', labelsize=12)\n",
    "mpl.rc('ytick', labelsize=12)"
   ]
  },
  {
   "cell_type": "code",
   "execution_count": 5,
   "id": "7b08db0c",
   "metadata": {},
   "outputs": [],
   "source": [
    "# Pandas variable to display a complete dataset\n",
    "pd.set_option('display.max_rows', None)\n",
    "pd.set_option('display.max_columns', None)\n",
    "pd.set_option('display.width', None)\n",
    "pd.set_option('display.max_colwidth', None)"
   ]
  },
  {
   "cell_type": "markdown",
   "id": "cf184f00",
   "metadata": {},
   "source": [
    "## Data"
   ]
  },
  {
   "cell_type": "code",
   "execution_count": 8,
   "id": "3cc40dc7",
   "metadata": {},
   "outputs": [],
   "source": [
    "from src.data.make_dataset import create_dataset\n",
    "\n",
    "input_path = os.path.join(project_root_dir, 'data', 'raw')\n",
    "output_path = os.path.join(project_root_dir, 'data', 'processed')\n",
    "\n",
    "create_dataset(input_path, output_path)"
   ]
  },
  {
   "cell_type": "code",
   "execution_count": null,
   "id": "5e353614",
   "metadata": {},
   "outputs": [],
   "source": [
    "# import the data\n",
    "data_path = os.path.join(project_root_dir, 'data', 'processed')\n",
    "\n",
    "data = pd.read_csv(os.path.join(data_path, 'training_data.csv'))\n",
    "labels = pd.read_csv(os.path.join(data_path, 'training_labels.csv'))"
   ]
  },
  {
   "cell_type": "code",
   "execution_count": null,
   "id": "ef7a3ad0",
   "metadata": {},
   "outputs": [],
   "source": [
    "# Verify the data\n",
    "data.describe()"
   ]
  },
  {
   "cell_type": "code",
   "execution_count": null,
   "id": "ee80d263",
   "metadata": {},
   "outputs": [],
   "source": [
    "labels.describe()"
   ]
  },
  {
   "cell_type": "code",
   "execution_count": null,
   "id": "bb4d2c0f",
   "metadata": {},
   "outputs": [],
   "source": [
    "# The dataset is small, so we will use K-fold cross-validation\n",
    "# We use StratifiedKFold to keep the same class repartition because the dataset is small\n",
    "from sklearn.model_selection import StratifiedKFold, cross_validate, cross_val_score\n",
    "\n",
    "s_k_fold = StratifiedKFold(n_splits=3, shuffle=True, random_state=42)"
   ]
  },
  {
   "cell_type": "markdown",
   "id": "084f2764",
   "metadata": {},
   "source": [
    "## Classification"
   ]
  },
  {
   "cell_type": "code",
   "execution_count": null,
   "id": "2d5a9271",
   "metadata": {},
   "outputs": [],
   "source": [
    "from sklearn.metrics import classification_report\n",
    "from sklearn.base import clone"
   ]
  },
  {
   "cell_type": "code",
   "execution_count": null,
   "id": "cea0aaef",
   "metadata": {},
   "outputs": [],
   "source": [
    "# Define the metrics used in cross validation\n",
    "scoring = {'acc': 'accuracy', \n",
    "           'prec': 'precision_macro', \n",
    "           'rec': 'recall_macro', \n",
    "           'f1': 'f1_macro', \n",
    "           'n_l_l':'neg_log_loss'}\n"
   ]
  },
  {
   "cell_type": "code",
   "execution_count": null,
   "id": "a9d4e7ae",
   "metadata": {},
   "outputs": [],
   "source": [
    "def mean_scoring(score):\n",
    "    mean_score = {}\n",
    "    \n",
    "    for key in score:\n",
    "        mean_score[key] = np.mean(score[key])\n",
    "    \n",
    "    return mean_score"
   ]
  },
  {
   "cell_type": "code",
   "execution_count": null,
   "id": "8351bfbe",
   "metadata": {},
   "outputs": [],
   "source": [
    "def display_score(score):\n",
    "    for key in mean_score:\n",
    "        print(key, ':', mean_score[key])"
   ]
  },
  {
   "cell_type": "markdown",
   "id": "f7e130d0",
   "metadata": {},
   "source": [
    "### Logistic Regression"
   ]
  },
  {
   "cell_type": "code",
   "execution_count": null,
   "id": "0e7228df",
   "metadata": {},
   "outputs": [],
   "source": [
    "from sklearn.linear_model import LogisticRegression\n",
    "\n",
    "lr_clf = LogisticRegression()"
   ]
  },
  {
   "cell_type": "code",
   "execution_count": null,
   "id": "533cd421",
   "metadata": {},
   "outputs": [],
   "source": [
    "lr_clf_score = cross_validate(lr_clf, data, labels, cv=s_k_fold, scoring=scoring, n_jobs=-1)"
   ]
  },
  {
   "cell_type": "code",
   "execution_count": null,
   "id": "7f27ca51",
   "metadata": {},
   "outputs": [],
   "source": [
    "mean_score = mean_scoring(lr_clf_score)\n",
    "display_score(mean_score)"
   ]
  },
  {
   "cell_type": "markdown",
   "id": "34dd8ebc",
   "metadata": {},
   "source": [
    "### Perceptron"
   ]
  },
  {
   "cell_type": "code",
   "execution_count": null,
   "id": "0803e697",
   "metadata": {},
   "outputs": [],
   "source": [
    "from sklearn.linear_model import SGDClassifier\n",
    "\n",
    "# per_clf = Perceptron(penalty='l2', use_proba=True)\n",
    "per_clf = SGDClassifier(loss=\"perceptron\", eta0=1, learning_rate=\"constant\", penalty=None)"
   ]
  },
  {
   "cell_type": "code",
   "execution_count": null,
   "id": "60ea5ae9",
   "metadata": {},
   "outputs": [],
   "source": [
    "per_clf_score = cross_validate(per_clf, data, np.ravel(labels), cv=s_k_fold, scoring=scoring)\n",
    "test_score = cross_val_score(per_clf, data, np.ravel(labels), cv=s_k_fold, scoring='f1_macro')\n",
    "mean_score = mean_scoring(per_clf_score)\n",
    "display_score(mean_score)\n",
    "print(test_score)"
   ]
  },
  {
   "cell_type": "markdown",
   "id": "04a0e17a",
   "metadata": {},
   "source": [
    "### SVM"
   ]
  },
  {
   "cell_type": "code",
   "execution_count": null,
   "id": "74913fa3",
   "metadata": {},
   "outputs": [],
   "source": [
    "from sklearn.svm import SVC\n",
    "\n",
    "svm_clf = SVC(probability=True)"
   ]
  },
  {
   "cell_type": "code",
   "execution_count": null,
   "id": "8086a9c8",
   "metadata": {},
   "outputs": [],
   "source": [
    "svm_clf_score = cross_validate(svm_clf, data, np.ravel(labels), cv=s_k_fold, scoring=scoring)\n",
    "\n",
    "mean_score = mean_scoring(svm_clf_score)\n",
    "display_score(mean_score)"
   ]
  },
  {
   "cell_type": "markdown",
   "id": "99cba777",
   "metadata": {},
   "source": [
    "### Random forest"
   ]
  },
  {
   "cell_type": "code",
   "execution_count": null,
   "id": "52b82148",
   "metadata": {},
   "outputs": [],
   "source": [
    "from sklearn.ensemble import RandomForestClassifier\n",
    "\n",
    "rf_clf = RandomForestClassifier()"
   ]
  },
  {
   "cell_type": "code",
   "execution_count": null,
   "id": "a7a132d9",
   "metadata": {},
   "outputs": [],
   "source": [
    "rf_clf_score = cross_validate(rf_clf, data, np.ravel(labels), cv=s_k_fold, scoring=scoring)\n",
    "mean_score = mean_scoring(rf_clf_score)\n",
    "display_score(rf_clf_score)"
   ]
  },
  {
   "cell_type": "markdown",
   "id": "852af3ec",
   "metadata": {},
   "source": [
    "### Multi layer perceptron"
   ]
  },
  {
   "cell_type": "code",
   "execution_count": null,
   "id": "f625e48f",
   "metadata": {},
   "outputs": [],
   "source": [
    "from sklearn.neural_network import MLPClassifier\n",
    "\n",
    "mlp_clf = MLPClassifier()"
   ]
  },
  {
   "cell_type": "code",
   "execution_count": null,
   "id": "6efc02ab",
   "metadata": {},
   "outputs": [],
   "source": [
    "mlp_clf = cross_validate(mlp_clf, data, np.ravel(labels), cv=s_k_fold, scoring=scoring)"
   ]
  },
  {
   "cell_type": "code",
   "execution_count": null,
   "id": "36589db1",
   "metadata": {},
   "outputs": [],
   "source": [
    "mean_score = mean_scoring(mlp_clf)\n",
    "display_score(mlp_clf)"
   ]
  },
  {
   "cell_type": "markdown",
   "id": "9d8b1e6f",
   "metadata": {},
   "source": [
    "### KNeighborsClassifier"
   ]
  },
  {
   "cell_type": "code",
   "execution_count": null,
   "id": "4d2b538a",
   "metadata": {},
   "outputs": [],
   "source": [
    "from sklearn.neighbors import KNeighborsClassifier\n",
    "\n",
    "kn_clf = KNeighborsClassifier()"
   ]
  },
  {
   "cell_type": "code",
   "execution_count": null,
   "id": "4cdfc298",
   "metadata": {},
   "outputs": [],
   "source": [
    "kn_clf_score = cross_validate(kn_clf, data, np.ravel(labels), cv=s_k_fold, scoring=scoring)\n",
    "mean_score = mean_scoring(kn_clf_score)\n",
    "display_score(mean_score)"
   ]
  }
 ],
 "metadata": {
  "kernelspec": {
   "display_name": "Python 3 (ipykernel)",
   "language": "python",
   "name": "python3"
  },
  "language_info": {
   "codemirror_mode": {
    "name": "ipython",
    "version": 3
   },
   "file_extension": ".py",
   "mimetype": "text/x-python",
   "name": "python",
   "nbconvert_exporter": "python",
   "pygments_lexer": "ipython3",
   "version": "3.8.0"
  }
 },
 "nbformat": 4,
 "nbformat_minor": 5
}
