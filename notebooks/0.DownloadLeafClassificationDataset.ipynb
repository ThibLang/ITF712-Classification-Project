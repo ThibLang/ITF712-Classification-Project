{
 "cells": [
  {
   "cell_type": "code",
   "execution_count": 1,
   "id": "19d3922b",
   "metadata": {},
   "outputs": [],
   "source": [
    "import os\n",
    "from pathlib import Path\n",
    "\n",
    "from src.data.make_dataset import download_dataset"
   ]
  },
  {
   "cell_type": "code",
   "execution_count": 2,
   "id": "ce7d4731",
   "metadata": {},
   "outputs": [],
   "source": [
    "# Make sure the authentication token from kaggle is valid. See https://www.kaggle.com/docs/api for more information\n",
    "\n",
    "# Download the dataset\n",
    "root_dir = Path(os.path.abspath('')).resolve().parents[0]\n",
    "download_dataset(root_dir, \"leaf-classification\")"
   ]
  }
 ],
 "metadata": {
  "kernelspec": {
   "display_name": "Python 3 (ipykernel)",
   "language": "python",
   "name": "python3"
  },
  "language_info": {
   "codemirror_mode": {
    "name": "ipython",
    "version": 3
   },
   "file_extension": ".py",
   "mimetype": "text/x-python",
   "name": "python",
   "nbconvert_exporter": "python",
   "pygments_lexer": "ipython3",
   "version": "3.8.0"
  }
 },
 "nbformat": 4,
 "nbformat_minor": 5
}
